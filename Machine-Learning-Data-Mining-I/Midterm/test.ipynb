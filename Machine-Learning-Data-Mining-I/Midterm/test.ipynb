{
 "cells": [
  {
   "cell_type": "code",
   "execution_count": 11,
   "metadata": {},
   "outputs": [],
   "source": [
    "import pandas as pd\n",
    "import numpy as np\n",
    "import matplotlib.pyplot as plt"
   ]
  },
  {
   "cell_type": "code",
   "execution_count": 12,
   "metadata": {},
   "outputs": [],
   "source": [
    "# Sigmod function\n",
    "def sigmoid(z):\n",
    "    return 1 / (1 + np.exp(-z))"
   ]
  },
  {
   "cell_type": "code",
   "execution_count": 13,
   "metadata": {},
   "outputs": [],
   "source": [
    "# function to calculate the cost (MSE)\n",
    "def compute_cost(X, y, theta):\n",
    "    m = len(y)\n",
    "    y_pred = sigmoid(X.dot(theta))\n",
    "    cost = np.sum(-y * np.log(y_pred) - (1 - y) * np.log(1 - y_pred)) / m\n",
    "    return cost"
   ]
  },
  {
   "cell_type": "code",
   "execution_count": 14,
   "metadata": {},
   "outputs": [],
   "source": [
    "# function to calculate the F1 score\n",
    "def compute_f1_score(X, y, theta):\n",
    "    y_pred = sigmoid(X.dot(theta))\n",
    "    y_pred = np.where(y_pred >= 0.5, 1, 0)\n",
    "    tp = np.sum((y == 1) & (y_pred == 1))\n",
    "    tn = np.sum((y == 0) & (y_pred == 0))\n",
    "    fp = np.sum((y == 0) & (y_pred == 1))\n",
    "    fn = np.sum((y == 1) & (y_pred == 0))\n",
    "    precision = tp / (tp + fp)\n",
    "    recall = tp / (tp + fn)\n",
    "    accuracy = (tp + tn) / (tp + tn + fp + fn)\n",
    "    f1_score = 2 * precision * recall / (precision + recall)\n",
    "    return f1_score, accuracy"
   ]
  },
  {
   "cell_type": "code",
   "execution_count": 15,
   "metadata": {},
   "outputs": [],
   "source": [
    "# predict function\n",
    "def predict(X, theta):\n",
    "    y_pred = sigmoid(X.dot(theta))\n",
    "    y_pred = np.where(y_pred >= 0.5, 1, 0)\n",
    "    return y_pred"
   ]
  },
  {
   "cell_type": "code",
   "execution_count": 16,
   "metadata": {},
   "outputs": [],
   "source": [
    "# Cost history\n",
    "cost_history = []"
   ]
  },
  {
   "cell_type": "code",
   "execution_count": 17,
   "metadata": {},
   "outputs": [],
   "source": [
    "# perform gradient descent\n",
    "def gradient_descent(X, y, theta, alpha, num_iterations):\n",
    "    for iteration in range(num_iterations):\n",
    "        error = sigmoid(X.dot(theta)) - y\n",
    "        gradient = X.T.dot(error) / len(X)\n",
    "        theta -= alpha * gradient\n",
    "        cost = compute_cost(X, y, theta)\n",
    "        cost_history.append(cost)\n",
    "        f1_score = compute_f1_score(X, y, theta)\n",
    "        # print(\"Iteration:\", iteration, \"Cost:\", cost, \"F1 score:\", f1_score)\n",
    "        # print(\"Coefficients:\", theta)\n",
    "    return theta, cost_history, f1_score"
   ]
  },
  {
   "cell_type": "code",
   "execution_count": 18,
   "metadata": {},
   "outputs": [],
   "source": [
    "# perform gradient descent with regularization (L2)\n",
    "def gradient_descent_regularization(X, y, theta, alpha, num_iterations, lambd):\n",
    "    for iteration in range(num_iterations):\n",
    "        error = sigmoid(X.dot(theta)) - y\n",
    "        gradient = X.T.dot(error) / len(X)\n",
    "        theta[0] -= alpha * gradient[0]\n",
    "        theta[1:] = (1 - alpha * lambd / len(X)) * theta[1:] - alpha * gradient[1:]\n",
    "        cost = compute_cost(X, y, theta)\n",
    "        cost_history.append(cost)\n",
    "        f1_score = compute_f1_score(X, y, theta)\n",
    "        # print(\"Iteration:\", iteration, \"Cost:\", cost, \"F1 score:\", f1_score)\n",
    "        # print(\"Coefficients:\", theta)\n",
    "    return theta, cost_history, f1_score"
   ]
  },
  {
   "cell_type": "code",
   "execution_count": 19,
   "metadata": {},
   "outputs": [],
   "source": [
    "# plot the cost function as a function of the iteration\n",
    "def plot_cost_function(cost_history):\n",
    "    plt.plot(range(len(cost_history)), cost_history)\n",
    "    plt.xlabel('Iteration')\n",
    "    plt.ylabel('Cost')\n",
    "    plt.show()"
   ]
  },
  {
   "cell_type": "code",
   "execution_count": null,
   "metadata": {},
   "outputs": [],
   "source": [
    "\n",
    "\n",
    "# hyperparameters\n",
    "alpha = 0.001\n",
    "num_iterations = 800000\n",
    "lambd = 0.1\n",
    "\n",
    "# initialize coefficients\n",
    "theta = np.zeros(X.shape[1])\n"
   ]
  }
 ],
 "metadata": {
  "kernelspec": {
   "display_name": "Machine-Learning-Data-Mining-I",
   "language": "python",
   "name": "python3"
  },
  "language_info": {
   "codemirror_mode": {
    "name": "ipython",
    "version": 3
   },
   "file_extension": ".py",
   "mimetype": "text/x-python",
   "name": "python",
   "nbconvert_exporter": "python",
   "pygments_lexer": "ipython3",
   "version": "3.11.5"
  },
  "orig_nbformat": 4
 },
 "nbformat": 4,
 "nbformat_minor": 2
}
